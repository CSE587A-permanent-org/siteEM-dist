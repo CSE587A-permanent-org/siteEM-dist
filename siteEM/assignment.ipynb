{
 "cells": [
  {
   "cell_type": "markdown",
   "metadata": {},
   "source": [
    "# Site EM Lab Assignment"
   ]
  },
  {
   "cell_type": "markdown",
   "metadata": {},
   "source": [
    "## Introduction\n",
    "\n",
    "In this lab you will implement the expectation maximization part of the MEME+\n",
    "algorithm described by Bailey and Elkan in their technical report titled\n",
    "[\"Fitting a Mixture Model by Expectation Maximization to Discover Motifs in BioPolymers.\"](https://cdn.aaai.org/ISMB/1994/ISMB94-004.pdf)\n",
    "\n",
    "The outer loops, initialization, and the various \"hacks\" they added to the basic\n",
    "EM model are provided for you, so you can focus on the EM part. However, it is\n",
    "still the most code you've had to write so far, by a significant amount.\n"
   ]
  },
  {
   "cell_type": "markdown",
   "metadata": {},
   "source": [
    "\n",
    "## Files\n",
    "\n",
    "As with the previous assignments, you will be asked to write code in\n",
    "[siteEM/assignment.py](assignment.py). The sections where you need to\n",
    "write code are identified, as they have been in the past, with\n",
    "`raise NotImplementedError`.\n",
    "\n",
    "There are also some additional files and directories in this assignment that\n",
    "did not exist in previous assigments:\n",
    "\n",
    "- test data is provided in [siteEM/data](data)\n",
    "\n",
    "- The Bailey and Elkan hacks, and some other convenience functions which you\n",
    "will not be asked to implemented, are in [siteEM/utils](utils).\n",
    "\n",
    "- [siteEM/\\_\\_main\\_\\_.py](__main__.py) provides a module entry point\n",
    "which allows you to run the code in the package as a script.\n",
    "\n",
    "## Running the code in a notebook\n",
    "\n",
    "By including the right import statements in a notebook cell, you can\n",
    "call `siteEM_initializer` and/or `siteEM` in a notebook. You can use \n",
    "[siteEM/test_assignment.py](test_assignment.py) as a guide for how to do this."
   ]
  },
  {
   "cell_type": "markdown",
   "metadata": {},
   "source": [
    "\n",
    "## Data representations\n",
    "\n",
    "### Input list of sequences\n",
    "\n",
    "The sequences passed to the site EM algorithm are represented as lists of\n",
    "nucleotides. The nucleotides are represented by the integers 0, 1, 2, 3 with\n",
    "the following mapping:\n",
    "\n",
    "```raw\n",
    "A <-> 0\n",
    "C <-> 1\n",
    "G <-> 2\n",
    "T <-> 3\n",
    "```\n",
    "\n",
    "You should use these as indices into the probability frequency matrix (PFM).\n",
    "\n",
    "The total input is a list of sequences, where each sequence is a list of integers."
   ]
  },
  {
   "cell_type": "markdown",
   "metadata": {},
   "source": [
    "### Model parameters\n",
    "\n",
    "The parameters related to the motif for which we search which are passed to the\n",
    "site EM algorithm are stored in a\n",
    "[SequenceModel](https://cse587a.github.io/cse587Autils/SequenceObjects/API/SequenceModel.html)\n",
    "object. Briefly, this object stores the prior probability (`site_prior`) of \n",
    "observing a motif in a sequence, and the complement, `background_prior`, which\n",
    "is the probability of observing a non-motif sequence that is generated from a \n",
    "background distribution on nucleotides. A `SequenceModel` object also stores \n",
    "Position Frequency Matricies (PFMs) for the motif and the background distribution.\n",
    "\n",
    "- The motif PFM, stored in the attribute `site_base_probs` is represented as a\n",
    "list of list where each sublist is length 4 with indicies corresponding to the\n",
    "nucleotide mapping above. Each sublist represents a position (typically called a\n",
    "column based on the way PFM are commonly visualized) in the motif and describes\n",
    "the relative frequency of each nucleotide at that position.\n",
    "\n",
    "- The background PFM, stored in the attribute `background_base_probs` is a\n",
    "single list of length 4 where each index corresponds to the nucleotide mapping\n",
    "above. This PFM describes the relative frequency of each nucleotide in the\n",
    "background. This is assumed to be the same for all positions in the motif."
   ]
  },
  {
   "cell_type": "markdown",
   "metadata": {},
   "source": [
    "### Posteriors and erasers\n",
    "\n",
    "- The purpose of the `e_step()` is to calculate the **posteriors**.\n",
    "This is important: The posterior probability of a motif of length motif_length\n",
    "starting at each position in a single input sequence is represented as a numpy \n",
    "array with length sequence_length - motif_length + 1. In the code, this is\n",
    "sometimes call a `posteriors_row` The posteriors for the \n",
    "entire input is a list of these. The kth posterior in a `posteriors_row` is the \n",
    "posterior probability for the sequence from k to k + motif_length - 1, inclusive. \n",
    "In this implementation, each posteriors row is normalized so the probabilities\n",
    "some to one, corresponding to the assumption of one motif occurrence per input\n",
    "sequence. Some of the Bailey and Elkan papers specify an alternative normalization\n",
    "where the user supplies an expected number of motif occurrences in the entire\n",
    "input and the posterior probabilities are normalized so they sum to that number\n",
    "across the entire input.\n",
    "\n",
    "- Erasers is a list of numpy arrays with the same dimensions as input. The \n",
    "entries are initialized to 1 and  may have any value between 0 and 1, inclusive. \n",
    "They are multiplicative factors that reduce the\n",
    "expected counts of letters. Let  m be the number of the  PFM column under\n",
    "consideration. If letter k occurs in position i+m-1 of sequence j, it would\n",
    "normally contribute posteriors[i, j] to the expected to the expected count for\n",
    "letter k in column m of the PFM. With erasers, it will contribute posteriors[i,\n",
    "j] * erasers[i, j+m-1]. Bailey and Elkan are not very clear about this and \n",
    "different papers suggest different ways of doing it. Eraser updates are calculated\n",
    "for you but you will need to use the eraser values to modify the expected counts\n",
    "as above."
   ]
  },
  {
   "cell_type": "markdown",
   "metadata": {},
   "source": [
    "### Return values\n",
    "The top level function, `siteEM_initializer`, returns list of pairs, each pair\n",
    "being the result of searching for one motif \n",
    "```\n",
    "[(motif1_posteriors, motif1_sequence_model),\n",
    "...\n",
    " (motifn_posteriors, motifn_sequence_model)]\n",
    "```\n",
    "The posteriors are provided for debugging convenience -- usually you will just\n",
    "look at the sequence model. Even when only one motif is requested, it will be \n",
    "returned in a list containing only one pair.\n",
    "\n",
    "The most likely single sequence can be printed out by calling `consensus_pfm` from\n",
    "the utils directory.\n",
    "\n",
    "In general, it is worth looking at the tests carefully to see which modules need\n",
    "to be imported, how the functions in the codebase are called, and what they're \n",
    "expected to return before you start coding."
   ]
  },
  {
   "cell_type": "markdown",
   "metadata": {},
   "source": [
    "## Questions\n",
    "Please answer the following questions in a new cell below the question. Don't start this part until your code passes all the tests provided. You may have to instrument your code a little to get these answers out. If so, retest to make sure your code still passes all the tests.\n",
    "\n",
    "1. **Convergence.** Using the sequence file smallTest.fasta, how many iterations does it take make MM to converge with accuracy 0.01 and no effective limit on the number of iterations?"
   ]
  },
  {
   "cell_type": "code",
   "execution_count": null,
   "metadata": {},
   "outputs": [],
   "source": [
    "from importlib.resources import path\n",
    "from importlib import reload\n",
    "import siteEM.assignment as assign\n",
    "reload(assign) # This ensures code is reloaded each time\n",
    "from siteEM.assignment import siteEM_intializer\n",
    "with path('siteEM.data', 'smallTest.fasta') as small_fasta_path:\n",
    "            fasta_path = small_fasta_path\n",
    "# Instrument your code to print out the iteration number and call \n",
    "# `siteEM_initializer`` to answer the question."
   ]
  },
  {
   "cell_type": "markdown",
   "metadata": {},
   "source": [
    "2. **Dependence on initialization.** Using the sequence file smallTest.fasta with motif width 4, max iterations 100, and accuracy 0.01, run siteEM_initializer 10 times in a loop with seed=0 to 9. How many different consensus motifs did you get? If you got more than one, how similar were they?"
   ]
  },
  {
   "cell_type": "code",
   "execution_count": null,
   "metadata": {},
   "outputs": [],
   "source": [
    "from importlib.resources import path\n",
    "from importlib import reload\n",
    "import siteEM.assignment as assign\n",
    "reload(assign) # This ensures code is reloaded each time\n",
    "from siteEM.assignment import siteEM_intializer\n",
    "from siteEM.utils import consensus_pfm\n",
    "with path('siteEM.data', 'smallTest.fasta') as small_fasta_path:\n",
    "            fasta_path = small_fasta_path\n",
    "\n",
    "# Loop through seeds, call siteEM_initializer, and print out consensus motifs.\n",
    "# Then write some text to answer the question."
   ]
  },
  {
   "cell_type": "markdown",
   "metadata": {},
   "source": [
    "3. **Comparison to the online MEME on real promoters.** There is a very fancy and heavily engineered MEME implementation available online at [http://meme-suite.org/tools/meme](http://meme-suite.org/tools/meme). The file PACPlusSeqs.fasta contains segments of the promoters of yeast genes most which encode ribosomal proteins. They are admittedly carefully chose, and these segments (between 100 and 300 bp upstream of the start codon) are known to contain most of the instances of the PAC motif.\n",
    "\n",
    "   3.1. First, run your code on the provided sequence file PACPlusSeqs.fasta in the directory Testing. Use motif width 8, accuracy 0.01, and maximum iterations 100, True for includeReverseStrand, and 3 for numMotifsToFind. This may take about 5 minutes to run. If it runs for more than 30 minutes either you have an ancient computer or there is something wrong with your implementation. Examine your 3 outputs, first looking at the consensus (most probable base in each position) and then using prettyPrintPFM to look at the actual numbers.\n",
    "\n",
    "   3.2. Now go to the MEME web site, upload the sequence file, change expected frequency to \"one occurrence per sequence\", number of motifs to 3, and under \"Advanced Options\" select \"Search given strand only\" and min and max motif widths both 8. Submit your job and wait a couple of minutes for the results to come up.\n",
    "   \n",
    "   3.3. How do your top 3 motifs compare to the top 3 found by the online implementation? Please consider which of the motifs are similar to each other, how similar they are, and how similar motifs were ranked among the 3 output by MEME and the 3 output by your code."
   ]
  },
  {
   "cell_type": "code",
   "execution_count": null,
   "metadata": {},
   "outputs": [],
   "source": [
    "from importlib.resources import path\n",
    "from importlib import reload\n",
    "import siteEM.assignment as assign\n",
    "reload(assign) # This ensures code is reloaded each time\n",
    "from siteEM.assignment import siteEM_intializer\n",
    "with path('siteEM.data', 'PACPlusSeqs.fasta') as small_fasta_path:\n",
    "            fasta_path = small_fasta_path\n",
    "\n",
    "# Call siteEM-initializer and print out consensus strings for all 3 motifs.\n",
    "# Then write some text to answer the question."
   ]
  },
  {
   "cell_type": "markdown",
   "metadata": {},
   "source": [
    "## sitePosterior\n",
    "\n",
    "This assignment makes use of `sitePosterior()`, which you wrote for the previous\n",
    "assignment. For convenience, a correct, obfuscated version is provided at the end\n",
    "of the assignment.py file."
   ]
  },
  {
   "cell_type": "markdown",
   "metadata": {},
   "source": [
    "## Optional: Running from the command line.\n",
    "\n",
    "You don't need to do this for this assignment, but if you are interested, once \n",
    "you have completed the assignments and all of the tests are passing, you can \n",
    "install the package in editable mode with:\n",
    "\n",
    "\n",
    "```python\n",
    "poetry run python -m pip install -e .\n",
    "```\n",
    "\n",
    "If this is successful, you should be able to run the script with:\n",
    "\n",
    "```python\n",
    "poetry run python -m siteEM --help\n",
    "```\n",
    "\n",
    "which will display a helpful dialogue on what parameters you may pass to the\n",
    "script to execute siteEM on a FASTA file of your choice. For example, a\n",
    "command to run siteEM on the PACPlusSeqs.fasta file with a motif_length of 8,\n",
    "an accuracy threshold of 0.01, 100 iterations, 3 motifs, to write to a file\n",
    "in the current working directory named pac_test.txt, and to include the\n",
    "reverse complement of the sequences in the analysis would be:\n",
    "\n",
    "```python\n",
    "poetry run python -m siteEM -f siteEM/data/PACPlusSeqs.fasta -m 8 -a 0.01 -i 100 -n 3 -o pac_test.txt -r\n",
    "```\n"
   ]
  }
 ],
 "metadata": {
  "kernelspec": {
   "display_name": ".venv",
   "language": "python",
   "name": "python3"
  },
  "language_info": {
   "codemirror_mode": {
    "name": "ipython",
    "version": 3
   },
   "file_extension": ".py",
   "mimetype": "text/x-python",
   "name": "python",
   "nbconvert_exporter": "python",
   "pygments_lexer": "ipython3",
   "version": "3.10.12"
  },
  "orig_nbformat": 4
 },
 "nbformat": 4,
 "nbformat_minor": 2
}
